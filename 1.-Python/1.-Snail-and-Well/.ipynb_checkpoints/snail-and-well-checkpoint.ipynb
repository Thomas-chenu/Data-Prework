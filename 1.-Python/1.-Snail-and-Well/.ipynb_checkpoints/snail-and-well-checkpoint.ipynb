{
 "cells": [
  {
   "cell_type": "markdown",
   "metadata": {},
   "source": [
    "<img src=\"https://bit.ly/2VnXWr2\" width=\"100\" align=\"left\">"
   ]
  },
  {
   "cell_type": "markdown",
   "metadata": {},
   "source": [
    "# The Snail and the Well\n",
    "\n",
    "A snail falls at the bottom of a 125 cm well. Each day the snail rises 30 cm. But at night, while sleeping, slides 20 cm because the walls are wet. How many days does it take for the snail to escape the well?\n",
    "\n",
    "**Hint**: The snail gets out of the well when it surpasses the 125cm of height.\n",
    "\n",
    "## Tools\n",
    "\n",
    "1. Loop: **while**\n",
    "2. Conditional statements: **if-else**\n",
    "3. Function: **print()**\n",
    "\n",
    "## Tasks\n",
    "\n",
    "#### 1. Assign the challenge data to variables with representative names: `well_height`, `daily_distance`, `nightly_distance` and `snail_position`."
   ]
  },
  {
   "cell_type": "code",
   "execution_count": 50,
   "metadata": {},
   "outputs": [],
   "source": [
    "well_height = 125\n",
    "daily_distance = 30\n",
    "nightly_distance = -20\n",
    "snail_position = 0\n",
    "snailhasnotescape = True\n",
    "total_distance = 0"
   ]
  },
  {
   "cell_type": "markdown",
   "metadata": {},
   "source": [
    "#### 2. Create a variable `days` to keep count of the days that pass until the snail escapes the well. "
   ]
  },
  {
   "cell_type": "code",
   "execution_count": 51,
   "metadata": {},
   "outputs": [],
   "source": [
    "days = 0"
   ]
  },
  {
   "cell_type": "markdown",
   "metadata": {},
   "source": [
    "#### 3. Find the solution to the challenge using the variables defined above. "
   ]
  },
  {
   "cell_type": "code",
   "execution_count": 52,
   "metadata": {},
   "outputs": [
    {
     "name": "stdout",
     "output_type": "stream",
     "text": [
      "the snail has escape in  11  days\n"
     ]
    }
   ],
   "source": [
    "while snail_position < well_height :\n",
    "    snail_position += daily_distance\n",
    "    days += 1\n",
    "    if snail_position < well_height:\n",
    "        snail_position += nightly_distance\n",
    "    else:\n",
    "        print(\"the snail has escape in \",days,\" days\")"
   ]
  },
  {
   "cell_type": "markdown",
   "metadata": {},
   "source": [
    "#### 4. Print the solution."
   ]
  },
  {
   "cell_type": "code",
   "execution_count": 7,
   "metadata": {},
   "outputs": [
    {
     "name": "stdout",
     "output_type": "stream",
     "text": [
      "Well done, the snail escape in 13  days\n"
     ]
    }
   ],
   "source": [
    "print(\"Well done, the snail escape in\", days,\" days\")"
   ]
  },
  {
   "cell_type": "markdown",
   "metadata": {},
   "source": [
    "## Bonus\n",
    "The distance traveled by the snail each day is now defined by a list.\n",
    "```\n",
    "advance_cm = [30, 21, 33, 77, 44, 45, 23, 45, 12, 34, 55]\n",
    "```\n",
    "On the first day, the snail rises 30cm but during the night it slides 20cm. On the second day, the snail rises 21cm but during the night it slides 20cm, and so on. \n",
    "\n",
    "#### 1. How many days does it take for the snail to escape the well?\n",
    "Follow the same guidelines as in the previous challenge.\n",
    "\n",
    "**Hint**: Remember that the snail gets out of the well when it surpasses the 125cm of height."
   ]
  },
  {
   "cell_type": "code",
   "execution_count": 9,
   "metadata": {
    "scrolled": true
   },
   "outputs": [
    {
     "name": "stdout",
     "output_type": "stream",
     "text": [
      "a\n",
      "[1, 2]\n",
      "3\n",
      "3.14\n",
      "(2, 0)\n"
     ]
    }
   ],
   "source": [
    "# Loops: 1) while loop 2) for loop\n",
    "\n",
    "test_list = [\"a\", [1,2],3, 3.14, (2,0)]\n",
    "\n",
    "# below is an example of a for loop\n",
    "for i in test_list: # i is the variable name you give to the item that you are going through in each loop\n",
    "    print(i)"
   ]
  },
  {
   "cell_type": "code",
   "execution_count": 39,
   "metadata": {},
   "outputs": [
    {
     "name": "stdout",
     "output_type": "stream",
     "text": [
      "5\n"
     ]
    }
   ],
   "source": [
    "advance_cm = [30, 21, 33, 77, 44, 45, 23, 45, 12, 34, 55]\n",
    "\n",
    "while snail_position < well_height: # each start of the day to check if snail is still in the well\n",
    "    snail_position += advance_cm[days] # climb\n",
    "    days += 1\n",
    "    if snail_position < well_height:\n",
    "        snail_position += nightly_distance\n",
    "    else:\n",
    "        print(\"The snail has escape\")\n",
    "\n",
    "print(days)"
   ]
  },
  {
   "cell_type": "markdown",
   "metadata": {},
   "source": [
    "#### 2. What is its maximum displacement in one day? And its minimum? Calculate the displacement using only the travel distance of the days used to get out of the well. \n",
    "**Hint**: Remember that displacement means the total distance risen taking into account that the snail slides at night.  "
   ]
  },
  {
   "cell_type": "code",
   "execution_count": 22,
   "metadata": {},
   "outputs": [
    {
     "name": "stdout",
     "output_type": "stream",
     "text": [
      "[1, 2, 3] before change\n",
      "[1, 17, 3] after change\n"
     ]
    }
   ],
   "source": [
    "test_list = [1,2,3]\n",
    "print(test_list, \"before change\")\n",
    "\n",
    "test_list[1]= 17\n",
    "print(test_list, \"after change\")"
   ]
  },
  {
   "cell_type": "code",
   "execution_count": 26,
   "metadata": {},
   "outputs": [
    {
     "name": "stdout",
     "output_type": "stream",
     "text": [
      "1\n",
      "17\n",
      "3\n"
     ]
    }
   ],
   "source": [
    "for i in range(3): # range() - gives you an object that contain a list of numbers\n",
    "    print(test_list[i])"
   ]
  },
  {
   "cell_type": "code",
   "execution_count": 34,
   "metadata": {},
   "outputs": [
    {
     "name": "stdout",
     "output_type": "stream",
     "text": [
      "10\n",
      "1\n",
      "13\n",
      "57\n",
      "[10, 1, 13, 57, 44]\n",
      "57\n",
      "1\n"
     ]
    }
   ],
   "source": [
    "new_list = advance_cm[:5]\n",
    "\n",
    "for i in range(4):\n",
    "    new_list[i] -= 20\n",
    "    print(new_list[i])\n",
    "\n",
    "print(new_list)\n",
    "\n",
    "print(max(new_list))\n",
    "print(min(new_list))"
   ]
  },
  {
   "cell_type": "markdown",
   "metadata": {},
   "source": [
    "#### 3. What is its average progress? Take into account the snail slides at night."
   ]
  },
  {
   "cell_type": "code",
   "execution_count": 35,
   "metadata": {},
   "outputs": [
    {
     "name": "stdout",
     "output_type": "stream",
     "text": [
      "25.0\n"
     ]
    }
   ],
   "source": [
    "print(sum(new_list)/len(new_list))"
   ]
  },
  {
   "cell_type": "markdown",
   "metadata": {},
   "source": [
    "#### 4. What is the standard deviation of its displacement? Take into account the snail slides at night."
   ]
  },
  {
   "cell_type": "code",
   "execution_count": 37,
   "metadata": {},
   "outputs": [
    {
     "name": "stdout",
     "output_type": "stream",
     "text": [
      "24.13503677229434\n"
     ]
    }
   ],
   "source": [
    "import statistics\n",
    "\n",
    "std = statistics.stdev(new_list)\n",
    "print(std)\n"
   ]
  }
 ],
 "metadata": {
  "kernelspec": {
   "display_name": "Python 3",
   "language": "python",
   "name": "python3"
  },
  "language_info": {
   "codemirror_mode": {
    "name": "ipython",
    "version": 3
   },
   "file_extension": ".py",
   "mimetype": "text/x-python",
   "name": "python",
   "nbconvert_exporter": "python",
   "pygments_lexer": "ipython3",
   "version": "3.8.3"
  }
 },
 "nbformat": 4,
 "nbformat_minor": 2
}
